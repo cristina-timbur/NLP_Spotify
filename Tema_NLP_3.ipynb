{
 "cells": [
  {
   "cell_type": "code",
   "execution_count": 13,
   "id": "9f12e1fc",
   "metadata": {},
   "outputs": [],
   "source": [
    "#Task 1. Reading the .txt file.\n",
    "import re\n",
    "text = open(\"Spotify Charts.html\", 'r', encoding = 'utf-8').read()"
   ]
  },
  {
   "cell_type": "code",
   "execution_count": 14,
   "id": "60891089",
   "metadata": {},
   "outputs": [],
   "source": [
    "#Task 2. Find all the url addresses in the html.\n",
    "import json\n",
    "\n",
    "#extrag toate url-urile de tipul 'http(s)://.....'\n",
    "url_list = re.findall(\"http[s]?\\:\\/\\/\\w+(?:[?#.\\/=-]\\w*)*\", text)\n",
    "\n",
    "#extrag toate url-urile de tipul 'file:///C:/.....'\n",
    "url_type_2 = re.findall('file:\\/\\/\\/C:\\/\\w*(?:[?#.\\/=%-]\\w*)*', text)\n",
    "#le adaug la lista finala url_list\n",
    "for url in url_type_2:\n",
    "    url_list.append(url)\n",
    "\n",
    "#salvez toate url-urile gasite in documentul 'urls.json'\n",
    "with open('urls.json', 'w', encoding = 'utf-8') as json_file:\n",
    "    json.dump(url_list, json_file, ensure_ascii = False, indent = 4)"
   ]
  },
  {
   "cell_type": "code",
   "execution_count": 15,
   "id": "abb26f48",
   "metadata": {},
   "outputs": [],
   "source": [
    "#Task 3. Find all color codes.\n",
    "import json\n",
    "\n",
    "hex_code = re.findall(\"(?<=svg fill=\\\")#[0-9a-fA-F]{6}\", text)\n",
    "hex_curat = []\n",
    "\n",
    "#fac frecventa la hex codes, ca sa afisez in 'hex.json' fiecare cod diferit doar o data\n",
    "freq_color = nltk.FreqDist(hex_code)\n",
    "for key in freq_color:\n",
    "    hex_curat.append(key)\n",
    "    \n",
    "#le salvez in documentul 'hex.json'\n",
    "with open('hex.json', 'w', encoding = 'utf-8') as json_file:\n",
    "    json.dump(hex_curat, json_file, ensure_ascii = False, indent = 4)"
   ]
  },
  {
   "cell_type": "code",
   "execution_count": 16,
   "id": "6bac0b5d",
   "metadata": {},
   "outputs": [],
   "source": [
    "#Task 4. Find all artists in the html document.\n",
    "import json\n",
    "\n",
    "fin = [] #Lista finala cu artistii\n",
    "\n",
    "#gasesc string-urile de tipul 'X_artist, Z_artist ...' din secventa de tipul 'by X_artist, Z_artist ...'\n",
    "art_type_1 = re.findall(\"(?<=by )(?:[$\\.ë']?\\w+[$.ë']?\\ ?)+(?:\\,?\\ ?(?:[$\\.ë']?\\w+[$\\.ë']?\\ ?)+)*\", text)                         "
   ]
  },
  {
   "cell_type": "code",
   "execution_count": 17,
   "id": "95aeaeec",
   "metadata": {},
   "outputs": [],
   "source": [
    "#parcurg lista art_type_1, fac split dupa ',' la string-urile care contin virgula, adica care au mai multi artisti\n",
    "#adaug artistii la lista fin\n",
    "for i in art_type_1:\n",
    "    if ',' not in i:\n",
    "        fin.append(i)\n",
    "    else:\n",
    "        for j in i.split(', '):\n",
    "            fin.append(j)"
   ]
  },
  {
   "cell_type": "code",
   "execution_count": 18,
   "id": "0c0e8206",
   "metadata": {},
   "outputs": [],
   "source": [
    "#gasesc string-urile 'X_artist, ... (&) Z_artist' din secventa de tipul 'feat. X_artist, ... (&) Z_artist'\n",
    "art_type_2 = re.findall(\"(?<=feat\\. )(?:\\w+[$.ë]?\\ ?)+(?:\\,\\ (?:\\w+[$.ë]?\\ ?)*)*(?:\\ ?\\&amp;\\ (?:\\w+[$.ë]?\\ ?)*)*\", text)\n",
    "\n",
    "#fac split dupa '&' si ',' la string-urile ce contin aceste caractere din lista art_type_2, ca sa obtin string-uri cu numele curate ale artistilor\n",
    "#si adaug numele artistilor din lista art_type_2 in lista finala fin de artisti\n",
    "for i in art_type_2:\n",
    "    if ',' and '&amp;' not in i:\n",
    "        fin.append(i)\n",
    "    else:\n",
    "        a = i.split(' &amp; ')\n",
    "        for j in a:\n",
    "            if ',' in j:\n",
    "                for k in j.split(', '):\n",
    "                    fin.append(k)\n",
    "            else:\n",
    "                fin.append(j)"
   ]
  },
  {
   "cell_type": "code",
   "execution_count": 19,
   "id": "aaf7f5fc",
   "metadata": {},
   "outputs": [],
   "source": [
    "#gasesc cazul de tipul '(& nume artist)' - (este doar un caz)\n",
    "art_type_3 = re.findall('(?<=\\(&amp; )(?:\\w+[$.ë]?\\ ?)+', text)\n",
    "fin.append(art_type_3[0])"
   ]
  },
  {
   "cell_type": "code",
   "execution_count": 20,
   "id": "5899ee2f",
   "metadata": {},
   "outputs": [],
   "source": [
    "import nltk \n",
    "\n",
    "#fac frecventa numelor artistilor si adaug fiecare nume in lista l, pentru ca sa evit repetarea unui nume de mai multe ori\n",
    "freq = nltk.FreqDist(fin)\n",
    "fin = []\n",
    "for key in freq:\n",
    "    fin.append(key)\n",
    "    \n",
    "with open('artist.json', 'w', encoding = 'utf-8') as json_file:\n",
    "    json.dump(fin, json_file, ensure_ascii = False, indent = 4)"
   ]
  }
 ],
 "metadata": {
  "kernelspec": {
   "display_name": "Python 3",
   "language": "python",
   "name": "python3"
  },
  "language_info": {
   "codemirror_mode": {
    "name": "ipython",
    "version": 3
   },
   "file_extension": ".py",
   "mimetype": "text/x-python",
   "name": "python",
   "nbconvert_exporter": "python",
   "pygments_lexer": "ipython3",
   "version": "3.8.9"
  }
 },
 "nbformat": 4,
 "nbformat_minor": 5
}
